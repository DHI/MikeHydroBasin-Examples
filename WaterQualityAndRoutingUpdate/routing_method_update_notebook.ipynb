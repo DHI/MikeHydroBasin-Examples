{
 "cells": [
  {
   "cell_type": "markdown",
   "metadata": {},
   "source": [
    "# Import libraries\n",
    "Import libraries used in notebook and the mike hydro data handler. \n",
    "Make sure the \"mHydro_data_handler.py\" file is located in the same folder as this notebook."
   ]
  },
  {
   "cell_type": "code",
   "execution_count": 1,
   "metadata": {},
   "outputs": [],
   "source": [
    "import pandas as pd\n",
    "from mHydro_data_handlers import routing_methods\n",
    "data_handler=routing_methods.MHydroDataHandler()"
   ]
  },
  {
   "cell_type": "markdown",
   "metadata": {},
   "source": [
    "## load model setup\n",
    "Load the mike hydro model. After updating the model it can be saved to a new mike hydro model file. "
   ]
  },
  {
   "cell_type": "code",
   "execution_count": 2,
   "metadata": {},
   "outputs": [],
   "source": [
    "template_filename=\".\\model_example\\WaterQuality_HD_only.mhydro\""
   ]
  },
  {
   "cell_type": "code",
   "execution_count": 3,
   "metadata": {},
   "outputs": [],
   "source": [
    "data_handler.load_data(template_filename)"
   ]
  },
  {
   "cell_type": "markdown",
   "metadata": {},
   "source": [
    "# create update file from setup\n",
    "This can be used to generate a parameter update file with the right columns and all the nodes in the configuration.\n",
    "Options that can be used for updating follow the naming in mike hydro.\n",
    "\n",
    "water level methods:\n",
    "- manning\n",
    "- ratingcurve (must be configured afterwards in mike hydro gui)\n",
    "- none\n",
    "\n",
    "Flow Routing method:\n",
    "- translation\n",
    "- linearreservoir\n",
    "- muskingum\n",
    "- norouting\n",
    "\n",
    "The \"Branch\" is only included in the update file as a help but only the River node identifier is used for updating. "
   ]
  },
  {
   "cell_type": "code",
   "execution_count": 6,
   "metadata": {},
   "outputs": [],
   "source": [
    "export_template = False\n",
    "if export_template:\n",
    "    data_handler.write_update_template(r\".\\model_example\\routhing_methods_update.csv\")"
   ]
  },
  {
   "cell_type": "markdown",
   "metadata": {},
   "source": [
    "# read update data\n",
    "Load the csv file used to update the model. The name of the columns must follow the id's used in the function update_wq_parameters used below."
   ]
  },
  {
   "cell_type": "code",
   "execution_count": 8,
   "metadata": {},
   "outputs": [
    {
     "data": {
      "text/html": [
       "<div>\n",
       "<style scoped>\n",
       "    .dataframe tbody tr th:only-of-type {\n",
       "        vertical-align: middle;\n",
       "    }\n",
       "\n",
       "    .dataframe tbody tr th {\n",
       "        vertical-align: top;\n",
       "    }\n",
       "\n",
       "    .dataframe thead th {\n",
       "        text-align: right;\n",
       "    }\n",
       "</style>\n",
       "<table border=\"1\" class=\"dataframe\">\n",
       "  <thead>\n",
       "    <tr style=\"text-align: right;\">\n",
       "      <th></th>\n",
       "      <th>Branch</th>\n",
       "      <th>River node</th>\n",
       "      <th>Chainage</th>\n",
       "      <th>ID</th>\n",
       "      <th>Flow routing method</th>\n",
       "      <th>Delay</th>\n",
       "      <th>Shape</th>\n",
       "      <th>Water level method</th>\n",
       "      <th>ManningN</th>\n",
       "      <th>Slope</th>\n",
       "      <th>ManningMaxDepth</th>\n",
       "      <th>Width</th>\n",
       "      <th>Type</th>\n",
       "    </tr>\n",
       "  </thead>\n",
       "  <tbody>\n",
       "    <tr>\n",
       "      <th>0</th>\n",
       "      <td>E6</td>\n",
       "      <td>N5</td>\n",
       "      <td>0.00000</td>\n",
       "      <td>Method 1</td>\n",
       "      <td>norouting</td>\n",
       "      <td>2.400000e-09</td>\n",
       "      <td>0.2</td>\n",
       "      <td>manning</td>\n",
       "      <td>0.10</td>\n",
       "      <td>0.05</td>\n",
       "      <td>5</td>\n",
       "      <td>12</td>\n",
       "      <td>CatchmentRoutingMethodPriority</td>\n",
       "    </tr>\n",
       "    <tr>\n",
       "      <th>1</th>\n",
       "      <td>E6</td>\n",
       "      <td>N2</td>\n",
       "      <td>59923.96821</td>\n",
       "      <td>Method 4</td>\n",
       "      <td>muskingum</td>\n",
       "      <td>1.000000e+01</td>\n",
       "      <td>1.0</td>\n",
       "      <td>manning</td>\n",
       "      <td>0.10</td>\n",
       "      <td>0.02</td>\n",
       "      <td>5</td>\n",
       "      <td>10</td>\n",
       "      <td>Catchment</td>\n",
       "    </tr>\n",
       "    <tr>\n",
       "      <th>2</th>\n",
       "      <td>E5</td>\n",
       "      <td>N4</td>\n",
       "      <td>0.00000</td>\n",
       "      <td>Method 5</td>\n",
       "      <td>muskingum</td>\n",
       "      <td>1.000000e+01</td>\n",
       "      <td>1.0</td>\n",
       "      <td>manning</td>\n",
       "      <td>0.10</td>\n",
       "      <td>0.02</td>\n",
       "      <td>5</td>\n",
       "      <td>10</td>\n",
       "      <td>Regular</td>\n",
       "    </tr>\n",
       "    <tr>\n",
       "      <th>3</th>\n",
       "      <td>E3</td>\n",
       "      <td>N1</td>\n",
       "      <td>0.00000</td>\n",
       "      <td>Method 2</td>\n",
       "      <td>norouting</td>\n",
       "      <td>2.400000e-09</td>\n",
       "      <td>0.2</td>\n",
       "      <td>manning</td>\n",
       "      <td>0.05</td>\n",
       "      <td>0.02</td>\n",
       "      <td>5</td>\n",
       "      <td>10</td>\n",
       "      <td>RoutingMethod</td>\n",
       "    </tr>\n",
       "    <tr>\n",
       "      <th>4</th>\n",
       "      <td>E2</td>\n",
       "      <td>N3</td>\n",
       "      <td>0.00000</td>\n",
       "      <td>Method 3</td>\n",
       "      <td>norouting</td>\n",
       "      <td>2.400000e-09</td>\n",
       "      <td>0.2</td>\n",
       "      <td>manning</td>\n",
       "      <td>0.05</td>\n",
       "      <td>0.02</td>\n",
       "      <td>5</td>\n",
       "      <td>10</td>\n",
       "      <td>RoutingMethod</td>\n",
       "    </tr>\n",
       "  </tbody>\n",
       "</table>\n",
       "</div>"
      ],
      "text/plain": [
       "  Branch River node     Chainage        ID Flow routing method         Delay  \\\n",
       "0     E6         N5      0.00000  Method 1           norouting  2.400000e-09   \n",
       "1     E6         N2  59923.96821  Method 4           muskingum  1.000000e+01   \n",
       "2     E5         N4      0.00000  Method 5           muskingum  1.000000e+01   \n",
       "3     E3         N1      0.00000  Method 2           norouting  2.400000e-09   \n",
       "4     E2         N3      0.00000  Method 3           norouting  2.400000e-09   \n",
       "\n",
       "   Shape Water level method  ManningN  Slope  ManningMaxDepth  Width  \\\n",
       "0    0.2            manning      0.10   0.05                5     12   \n",
       "1    1.0            manning      0.10   0.02                5     10   \n",
       "2    1.0            manning      0.10   0.02                5     10   \n",
       "3    0.2            manning      0.05   0.02                5     10   \n",
       "4    0.2            manning      0.05   0.02                5     10   \n",
       "\n",
       "                             Type  \n",
       "0  CatchmentRoutingMethodPriority  \n",
       "1                       Catchment  \n",
       "2                         Regular  \n",
       "3                   RoutingMethod  \n",
       "4                   RoutingMethod  "
      ]
     },
     "metadata": {},
     "output_type": "display_data"
    }
   ],
   "source": [
    "update_csv_filename=r\".\\model_example\\routhing_methods_update.csv\"\n",
    "update_data=pd.read_csv(update_csv_filename, index_col=False, keep_default_na=False)\n",
    "update_data.columns = update_data.columns.str.strip()\n",
    "display(update_data.head(5))"
   ]
  },
  {
   "cell_type": "markdown",
   "metadata": {},
   "source": [
    "### example of modifying update data in notebook"
   ]
  },
  {
   "cell_type": "code",
   "execution_count": null,
   "metadata": {},
   "outputs": [],
   "source": [
    "if False:\n",
    "    row_selection=update_data[\"Flow routing method\"]==\"translation\"\n",
    "    column_selection=[\"Flow routing method\"]\n",
    "    update_data.loc[row_selection, column_selection]=\"muskingum\"\n",
    "    display(update_data)"
   ]
  },
  {
   "cell_type": "markdown",
   "metadata": {},
   "source": [
    "## update model and save to new model file"
   ]
  },
  {
   "cell_type": "code",
   "execution_count": 9,
   "metadata": {},
   "outputs": [],
   "source": [
    "for index, row in update_data.iterrows():\n",
    "    par_dict= data_handler.get_parameter_dictionary(nodeId=row['River node'], description=row['ID'], routing_type=row['Flow routing method'], \n",
    "                                                    delay=row['Delay'], shape=row['Shape'], water_level_method=row['Water level method'], \n",
    "                                                    manning_N=row['ManningN'], width=row['Width'], slope=row['Slope'], \n",
    "                                                    manning_max_depth=row['ManningMaxDepth'])\n",
    "    data_handler.update_node(par_dict)"
   ]
  },
  {
   "cell_type": "markdown",
   "metadata": {},
   "source": [
    "### save to file"
   ]
  },
  {
   "cell_type": "code",
   "execution_count": 10,
   "metadata": {},
   "outputs": [],
   "source": [
    "output_file_name=r\".\\model_example\\WaterQuality_HD_only_routing_method_updated.mhydro\"\n",
    "data_handler.write_to_file(output_file_name)"
   ]
  },
  {
   "cell_type": "markdown",
   "metadata": {},
   "source": [
    "# Utilities"
   ]
  },
  {
   "cell_type": "code",
   "execution_count": 4,
   "metadata": {},
   "outputs": [],
   "source": [
    "# clear routing methods from setup. Save again afterwards to persist\n",
    "if False:\n",
    "    mh_data = data_handler.get_mHydro_data()\n",
    "    mh_data.KinematicRoutingMethodList.Clear()"
   ]
  }
 ],
 "metadata": {
  "interpreter": {
   "hash": "2db524e06e9f5f4ffedc911c917cb75e12dbc923643829bf417064a77eb14d37"
  },
  "kernelspec": {
   "display_name": "Python 3.8.2 64-bit",
   "language": "python",
   "name": "python3"
  },
  "language_info": {
   "codemirror_mode": {
    "name": "ipython",
    "version": 3
   },
   "file_extension": ".py",
   "mimetype": "text/x-python",
   "name": "python",
   "nbconvert_exporter": "python",
   "pygments_lexer": "ipython3",
   "version": "3.8.2"
  },
  "orig_nbformat": 4
 },
 "nbformat": 4,
 "nbformat_minor": 2
}
