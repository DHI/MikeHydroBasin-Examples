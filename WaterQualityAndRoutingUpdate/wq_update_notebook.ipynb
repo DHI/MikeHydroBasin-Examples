{
 "cells": [
  {
   "cell_type": "markdown",
   "metadata": {},
   "source": [
    "# Import libraries\n",
    "Import libraries used in notebook and the mike hydro data handler. \n",
    "Make sure the \"mHydro_data_handler.py\" file is located in the same folder as this notebook."
   ]
  },
  {
   "cell_type": "code",
   "execution_count": 1,
   "metadata": {},
   "outputs": [],
   "source": [
    "import csv\n",
    "import pandas as pd\n",
    "from mHydro_data_handlers import wq_locations\n",
    "data_handler=wq_locations.MHydroDataHandler()"
   ]
  },
  {
   "cell_type": "markdown",
   "metadata": {},
   "source": [
    "## load model setup\n",
    "Load the mike hydro model. After updating the model it can be saved to a new mike hydro model file. "
   ]
  },
  {
   "cell_type": "code",
   "execution_count": 2,
   "metadata": {},
   "outputs": [],
   "source": [
    "template_filename=r\".\\model_example\\WaterQuality_HD_only.mhydro\""
   ]
  },
  {
   "cell_type": "code",
   "execution_count": 3,
   "metadata": {},
   "outputs": [],
   "source": [
    "data_handler.load_data(template_filename)"
   ]
  },
  {
   "cell_type": "markdown",
   "metadata": {},
   "source": [
    "# read update data\n",
    "Load the csv file used to update the model. The name of the columns must follow the id's used in the function update_wq_parameters used below."
   ]
  },
  {
   "cell_type": "code",
   "execution_count": 4,
   "metadata": {},
   "outputs": [
    {
     "data": {
      "text/html": [
       "<div>\n",
       "<style scoped>\n",
       "    .dataframe tbody tr th:only-of-type {\n",
       "        vertical-align: middle;\n",
       "    }\n",
       "\n",
       "    .dataframe tbody tr th {\n",
       "        vertical-align: top;\n",
       "    }\n",
       "\n",
       "    .dataframe thead th {\n",
       "        text-align: right;\n",
       "    }\n",
       "</style>\n",
       "<table border=\"1\" class=\"dataframe\">\n",
       "  <thead>\n",
       "    <tr style=\"text-align: right;\">\n",
       "      <th></th>\n",
       "      <th>parameter_names</th>\n",
       "      <th>data_files</th>\n",
       "      <th>item_numbers</th>\n",
       "    </tr>\n",
       "    <tr>\n",
       "      <th>location_short_name</th>\n",
       "      <th></th>\n",
       "      <th></th>\n",
       "      <th></th>\n",
       "    </tr>\n",
       "  </thead>\n",
       "  <tbody>\n",
       "    <tr>\n",
       "      <th>W6</th>\n",
       "      <td>BOD|NH4|P_tot</td>\n",
       "      <td>DHI_MbWaterUserNodes_WQPointSourcesTS.dfs0</td>\n",
       "      <td>1|3|5</td>\n",
       "    </tr>\n",
       "    <tr>\n",
       "      <th>C1</th>\n",
       "      <td>BOD|NH4</td>\n",
       "      <td>DHI_MbWaterUserNodes_WQPointSourcesTS.dfs0</td>\n",
       "      <td>1|3</td>\n",
       "    </tr>\n",
       "  </tbody>\n",
       "</table>\n",
       "</div>"
      ],
      "text/plain": [
       "                    parameter_names  \\\n",
       "location_short_name                   \n",
       "W6                    BOD|NH4|P_tot   \n",
       "C1                          BOD|NH4   \n",
       "\n",
       "                                                     data_files item_numbers  \n",
       "location_short_name                                                           \n",
       "W6                   DHI_MbWaterUserNodes_WQPointSourcesTS.dfs0        1|3|5  \n",
       "C1                   DHI_MbWaterUserNodes_WQPointSourcesTS.dfs0          1|3  "
      ]
     },
     "metadata": {},
     "output_type": "display_data"
    }
   ],
   "source": [
    "update_csv_filename=r\".\\model_example\\wq_update.csv\"\n",
    "update_data=pd.read_csv(update_csv_filename, index_col=\"location_short_name\")\n",
    "update_data.columns = update_data.columns.str.strip()\n",
    "display(update_data)"
   ]
  },
  {
   "cell_type": "markdown",
   "metadata": {},
   "source": [
    "## update model and save to new model file"
   ]
  },
  {
   "cell_type": "code",
   "execution_count": 5,
   "metadata": {},
   "outputs": [
    {
     "name": "stdout",
     "output_type": "stream",
     "text": [
      "Adding to locations: W6\n",
      "Adding to locations: C1\n"
     ]
    }
   ],
   "source": [
    "for index, row in update_data.iterrows():\n",
    "    data_handler.update_wq_parameters(index, row['parameter_names'], row['data_files'], row['item_numbers'])"
   ]
  },
  {
   "cell_type": "markdown",
   "metadata": {},
   "source": [
    "### save to file"
   ]
  },
  {
   "cell_type": "code",
   "execution_count": 6,
   "metadata": {},
   "outputs": [],
   "source": [
    "output_file_name=r\".\\model_example\\WaterQuality_HD_only_wq_updated.mhydro\"\n",
    "data_handler.write_to_file(output_file_name)"
   ]
  }
 ],
 "metadata": {
  "interpreter": {
   "hash": "2db524e06e9f5f4ffedc911c917cb75e12dbc923643829bf417064a77eb14d37"
  },
  "kernelspec": {
   "display_name": "Python 3.8.2 64-bit",
   "language": "python",
   "name": "python3"
  },
  "language_info": {
   "codemirror_mode": {
    "name": "ipython",
    "version": 3
   },
   "file_extension": ".py",
   "mimetype": "text/x-python",
   "name": "python",
   "nbconvert_exporter": "python",
   "pygments_lexer": "ipython3",
   "version": "3.8.2"
  },
  "orig_nbformat": 4
 },
 "nbformat": 4,
 "nbformat_minor": 2
}
